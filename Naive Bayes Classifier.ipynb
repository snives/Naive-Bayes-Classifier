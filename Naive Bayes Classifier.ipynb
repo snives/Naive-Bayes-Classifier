{
 "cells": [
  {
   "cell_type": "markdown",
   "id": "8aefc2b2-8680-4673-a7d2-fb81850b4d6f",
   "metadata": {},
   "source": [
    "# Naive Bayes Classifier for spam email\n",
    "\n",
    "https://www.kaggle.com/datasets/jackksoncsie/spam-email-dataset/\n",
    "\n",
    "A classic supervised learning task, spam identification, is presented here with a dataset containing emails defined as spam or not spam.  \n",
    "We implement a Naive Bayes classifier using Scikit Learn to construct a model which accurately identifies unseen email as spam or not.\n",
    "We obtain a model that is unbiased, efficient, and 99% accurate. "
   ]
  },
  {
   "cell_type": "code",
   "execution_count": 2,
   "id": "4aded6a1-5707-463b-81c9-c85bfb70e084",
   "metadata": {},
   "outputs": [],
   "source": [
    "import kagglehub\n",
    "import pandas as pd\n",
    "from sklearn.model_selection import train_test_split\n",
    "from sklearn.feature_extraction.text import CountVectorizer\n",
    "from sklearn.naive_bayes import MultinomialNB\n",
    "from sklearn.metrics import accuracy_score, classification_report, roc_curve, auc\n",
    "import matplotlib.pyplot as plt"
   ]
  },
  {
   "cell_type": "markdown",
   "id": "c5adfd49-a337-4d67-8699-91ac61d31a39",
   "metadata": {},
   "source": [
    "### Load data"
   ]
  },
  {
   "cell_type": "code",
   "execution_count": 3,
   "id": "b678c17c-64b0-47e4-b2d6-04e572bb3f18",
   "metadata": {},
   "outputs": [
    {
     "name": "stdout",
     "output_type": "stream",
     "text": [
      "Warning: Looks like you're using an outdated `kagglehub` version, please consider updating (latest version: 0.3.12)\n"
     ]
    }
   ],
   "source": [
    "# Download latest version\n",
    "path = kagglehub.dataset_download(\"jackksoncsie/spam-email-dataset\")\n",
    "\n",
    "#print(\"Path to dataset files:\", path)"
   ]
  },
  {
   "cell_type": "code",
   "execution_count": 4,
   "id": "db28cad3-65e7-4f8e-aa3e-3ced6b37830c",
   "metadata": {},
   "outputs": [
    {
     "name": "stdout",
     "output_type": "stream",
     "text": [
      "                                                text  spam\n",
      "0  Subject: naturally irresistible your corporate...     1\n",
      "1  Subject: the stock trading gunslinger  fanny i...     1\n",
      "2  Subject: unbelievable new homes made easy  im ...     1\n",
      "3  Subject: 4 color printing special  request add...     1\n",
      "4  Subject: do not have money , get software cds ...     1\n"
     ]
    }
   ],
   "source": [
    "# Load dataset\n",
    "# Replace 'your_file.csv' with the actual path to your CSV file\n",
    "df = pd.read_csv(path+'/emails.csv')\n",
    "\n",
    "# Display the first few rows of the DataFrame\n",
    "print(df.head())"
   ]
  },
  {
   "cell_type": "markdown",
   "id": "41106f37-90cc-4024-9905-0af6f65483ef",
   "metadata": {},
   "source": [
    "### Exploratory Data Analysis"
   ]
  },
  {
   "cell_type": "code",
   "execution_count": 5,
   "id": "c19ae816-15f4-4a71-850b-19f4413be34a",
   "metadata": {},
   "outputs": [
    {
     "name": "stdout",
     "output_type": "stream",
     "text": [
      "<class 'pandas.core.frame.DataFrame'>\n",
      "RangeIndex: 5728 entries, 0 to 5727\n",
      "Data columns (total 2 columns):\n",
      " #   Column  Non-Null Count  Dtype \n",
      "---  ------  --------------  ----- \n",
      " 0   text    5728 non-null   object\n",
      " 1   spam    5728 non-null   int64 \n",
      "dtypes: int64(1), object(1)\n",
      "memory usage: 89.6+ KB\n"
     ]
    }
   ],
   "source": [
    "df.info()"
   ]
  },
  {
   "cell_type": "code",
   "execution_count": 6,
   "id": "e1547c72-0acb-4666-9071-752a092bbcc0",
   "metadata": {},
   "outputs": [
    {
     "data": {
      "text/html": [
       "<div>\n",
       "<style scoped>\n",
       "    .dataframe tbody tr th:only-of-type {\n",
       "        vertical-align: middle;\n",
       "    }\n",
       "\n",
       "    .dataframe tbody tr th {\n",
       "        vertical-align: top;\n",
       "    }\n",
       "\n",
       "    .dataframe thead th {\n",
       "        text-align: right;\n",
       "    }\n",
       "</style>\n",
       "<table border=\"1\" class=\"dataframe\">\n",
       "  <thead>\n",
       "    <tr style=\"text-align: right;\">\n",
       "      <th></th>\n",
       "      <th>spam</th>\n",
       "    </tr>\n",
       "  </thead>\n",
       "  <tbody>\n",
       "    <tr>\n",
       "      <th>count</th>\n",
       "      <td>5728.000000</td>\n",
       "    </tr>\n",
       "    <tr>\n",
       "      <th>mean</th>\n",
       "      <td>0.238827</td>\n",
       "    </tr>\n",
       "    <tr>\n",
       "      <th>std</th>\n",
       "      <td>0.426404</td>\n",
       "    </tr>\n",
       "    <tr>\n",
       "      <th>min</th>\n",
       "      <td>0.000000</td>\n",
       "    </tr>\n",
       "    <tr>\n",
       "      <th>25%</th>\n",
       "      <td>0.000000</td>\n",
       "    </tr>\n",
       "    <tr>\n",
       "      <th>50%</th>\n",
       "      <td>0.000000</td>\n",
       "    </tr>\n",
       "    <tr>\n",
       "      <th>75%</th>\n",
       "      <td>0.000000</td>\n",
       "    </tr>\n",
       "    <tr>\n",
       "      <th>max</th>\n",
       "      <td>1.000000</td>\n",
       "    </tr>\n",
       "  </tbody>\n",
       "</table>\n",
       "</div>"
      ],
      "text/plain": [
       "              spam\n",
       "count  5728.000000\n",
       "mean      0.238827\n",
       "std       0.426404\n",
       "min       0.000000\n",
       "25%       0.000000\n",
       "50%       0.000000\n",
       "75%       0.000000\n",
       "max       1.000000"
      ]
     },
     "execution_count": 6,
     "metadata": {},
     "output_type": "execute_result"
    }
   ],
   "source": [
    "df.describe()"
   ]
  },
  {
   "cell_type": "code",
   "execution_count": 7,
   "id": "819ef587-5ccd-4e26-bbb9-eafee5952f44",
   "metadata": {},
   "outputs": [
    {
     "data": {
      "text/plain": [
       "text    0\n",
       "spam    0\n",
       "dtype: int64"
      ]
     },
     "execution_count": 7,
     "metadata": {},
     "output_type": "execute_result"
    }
   ],
   "source": [
    "#Check for missing data\n",
    "df.isnull().sum()"
   ]
  },
  {
   "cell_type": "code",
   "execution_count": 8,
   "id": "2518b911-03fc-472e-952f-2779d00b8755",
   "metadata": {},
   "outputs": [],
   "source": [
    "#Separate data into a train and test set to validate the accuracy of our model\n",
    "X=df['text']\n",
    "y=df['spam']\n",
    "X_train, X_test, y_train, y_test = train_test_split(X, y, random_state=1, stratify=y)"
   ]
  },
  {
   "cell_type": "code",
   "execution_count": 9,
   "id": "8df2732a-32c4-40f9-a80e-ccba1374ddef",
   "metadata": {},
   "outputs": [
    {
     "data": {
      "text/plain": [
       "((4296, 32973), (1432, 32973))"
      ]
     },
     "execution_count": 9,
     "metadata": {},
     "output_type": "execute_result"
    }
   ],
   "source": [
    "vectorizer = CountVectorizer(stop_words='english')\n",
    "\n",
    "#get document term matrix DTM\n",
    "X_train_dtm = vectorizer.fit_transform(X_train);\n",
    "X_test_dtm = vectorizer.transform(X_test);  #only transform on unseen test data\n",
    "X_train_dtm.shape, X_test_dtm.shape\n",
    "#creates compressed sparse row (CSR) matrix, for efficient storage."
   ]
  },
  {
   "cell_type": "markdown",
   "id": "3e7e830a-3c94-4a18-ad57-34856942f89d",
   "metadata": {},
   "source": [
    "### Train a Naive Bayes model"
   ]
  },
  {
   "cell_type": "code",
   "execution_count": 10,
   "id": "3345b5f3-f8b3-4ee3-adc4-2627782e8a9a",
   "metadata": {},
   "outputs": [],
   "source": [
    "nb = MultinomialNB()\n",
    "nb.fit(X_train_dtm, y_train)\n",
    "y_pred = nb.predict(X_test_dtm)"
   ]
  },
  {
   "cell_type": "markdown",
   "id": "3235b786-fed7-4d60-b166-754e7dcd073c",
   "metadata": {},
   "source": [
    "### Evaluate accuracy"
   ]
  },
  {
   "cell_type": "code",
   "execution_count": 11,
   "id": "aa7ca505-67fd-473c-9a12-07ccb2aec8c5",
   "metadata": {},
   "outputs": [
    {
     "name": "stdout",
     "output_type": "stream",
     "text": [
      "\n",
      "Classification Report:\n",
      "              precision    recall  f1-score   support\n",
      "\n",
      "           0       1.00      0.99      0.99      1090\n",
      "           1       0.97      0.99      0.98       342\n",
      "\n",
      "    accuracy                           0.99      1432\n",
      "   macro avg       0.99      0.99      0.99      1432\n",
      "weighted avg       0.99      0.99      0.99      1432\n",
      "\n"
     ]
    },
    {
     "data": {
      "text/plain": [
       "0.9909217877094972"
      ]
     },
     "execution_count": 11,
     "metadata": {},
     "output_type": "execute_result"
    }
   ],
   "source": [
    "print(\"\\nClassification Report:\")\n",
    "print(classification_report(y_test, y_pred))\n",
    "accuracy_score(y_test, y_pred)"
   ]
  },
  {
   "cell_type": "code",
   "execution_count": 12,
   "id": "5bb01238-05c9-4d92-be0c-feb9b890f14d",
   "metadata": {},
   "outputs": [
    {
     "data": {
      "text/html": [
       "<div>\n",
       "<style scoped>\n",
       "    .dataframe tbody tr th:only-of-type {\n",
       "        vertical-align: middle;\n",
       "    }\n",
       "\n",
       "    .dataframe tbody tr th {\n",
       "        vertical-align: top;\n",
       "    }\n",
       "\n",
       "    .dataframe thead th {\n",
       "        text-align: right;\n",
       "    }\n",
       "</style>\n",
       "<table border=\"1\" class=\"dataframe\">\n",
       "  <thead>\n",
       "    <tr style=\"text-align: right;\">\n",
       "      <th></th>\n",
       "      <th>text</th>\n",
       "      <th>spam</th>\n",
       "      <th>pred</th>\n",
       "    </tr>\n",
       "  </thead>\n",
       "  <tbody>\n",
       "    <tr>\n",
       "      <th>587</th>\n",
       "      <td>Subject: porn p . o . : your 10 free pictures ...</td>\n",
       "      <td>1</td>\n",
       "      <td>1</td>\n",
       "    </tr>\n",
       "    <tr>\n",
       "      <th>156</th>\n",
       "      <td>Subject: do i require an attorney to use this ...</td>\n",
       "      <td>1</td>\n",
       "      <td>1</td>\n",
       "    </tr>\n",
       "    <tr>\n",
       "      <th>1045</th>\n",
       "      <td>Subject: all graphics software available , che...</td>\n",
       "      <td>1</td>\n",
       "      <td>1</td>\n",
       "    </tr>\n",
       "    <tr>\n",
       "      <th>529</th>\n",
       "      <td>Subject: hi  how to save on customer your medl...</td>\n",
       "      <td>1</td>\n",
       "      <td>1</td>\n",
       "    </tr>\n",
       "    <tr>\n",
       "      <th>1234</th>\n",
       "      <td>Subject: want to make women adore you ? click ...</td>\n",
       "      <td>1</td>\n",
       "      <td>1</td>\n",
       "    </tr>\n",
       "    <tr>\n",
       "      <th>1211</th>\n",
       "      <td>Subject: you can gain from lowest interest rat...</td>\n",
       "      <td>1</td>\n",
       "      <td>1</td>\n",
       "    </tr>\n",
       "    <tr>\n",
       "      <th>209</th>\n",
       "      <td>Subject: the next move higher for strong marke...</td>\n",
       "      <td>1</td>\n",
       "      <td>1</td>\n",
       "    </tr>\n",
       "    <tr>\n",
       "      <th>571</th>\n",
       "      <td>Subject: adv oil and gas investment tgym  how ...</td>\n",
       "      <td>1</td>\n",
       "      <td>1</td>\n",
       "    </tr>\n",
       "    <tr>\n",
       "      <th>443</th>\n",
       "      <td>Subject: more site sales  do you take credit c...</td>\n",
       "      <td>1</td>\n",
       "      <td>1</td>\n",
       "    </tr>\n",
       "    <tr>\n",
       "      <th>1204</th>\n",
       "      <td>Subject: better sex ! better relationship !  a...</td>\n",
       "      <td>1</td>\n",
       "      <td>1</td>\n",
       "    </tr>\n",
       "    <tr>\n",
       "      <th>5543</th>\n",
       "      <td>Subject: weijun decided not to interview  i gu...</td>\n",
       "      <td>0</td>\n",
       "      <td>0</td>\n",
       "    </tr>\n",
       "    <tr>\n",
       "      <th>4604</th>\n",
       "      <td>Subject: correlation matrix reduction  zhiyang...</td>\n",
       "      <td>0</td>\n",
       "      <td>0</td>\n",
       "    </tr>\n",
       "    <tr>\n",
       "      <th>1695</th>\n",
       "      <td>Subject: my first draft  dear dr . kaminski  t...</td>\n",
       "      <td>0</td>\n",
       "      <td>0</td>\n",
       "    </tr>\n",
       "    <tr>\n",
       "      <th>4479</th>\n",
       "      <td>Subject: re : i am zhendong  sure thing !  - -...</td>\n",
       "      <td>0</td>\n",
       "      <td>0</td>\n",
       "    </tr>\n",
       "    <tr>\n",
       "      <th>4681</th>\n",
       "      <td>Subject: revenue management meeting  please pl...</td>\n",
       "      <td>0</td>\n",
       "      <td>0</td>\n",
       "    </tr>\n",
       "    <tr>\n",
       "      <th>1464</th>\n",
       "      <td>Subject: re : fwd curves  thx i understand and...</td>\n",
       "      <td>0</td>\n",
       "      <td>0</td>\n",
       "    </tr>\n",
       "    <tr>\n",
       "      <th>3958</th>\n",
       "      <td>Subject: re : program attached ; march ny ro c...</td>\n",
       "      <td>0</td>\n",
       "      <td>0</td>\n",
       "    </tr>\n",
       "    <tr>\n",
       "      <th>3623</th>\n",
       "      <td>Subject: re : petrochemical forward curves  vi...</td>\n",
       "      <td>0</td>\n",
       "      <td>0</td>\n",
       "    </tr>\n",
       "    <tr>\n",
       "      <th>1742</th>\n",
       "      <td>Subject: bi - weekly transmission update repor...</td>\n",
       "      <td>0</td>\n",
       "      <td>1</td>\n",
       "    </tr>\n",
       "    <tr>\n",
       "      <th>5128</th>\n",
       "      <td>Subject: fw : london work  hi ,  how are you ?...</td>\n",
       "      <td>0</td>\n",
       "      <td>0</td>\n",
       "    </tr>\n",
       "  </tbody>\n",
       "</table>\n",
       "</div>"
      ],
      "text/plain": [
       "                                                   text  spam  pred\n",
       "587   Subject: porn p . o . : your 10 free pictures ...     1     1\n",
       "156   Subject: do i require an attorney to use this ...     1     1\n",
       "1045  Subject: all graphics software available , che...     1     1\n",
       "529   Subject: hi  how to save on customer your medl...     1     1\n",
       "1234  Subject: want to make women adore you ? click ...     1     1\n",
       "1211  Subject: you can gain from lowest interest rat...     1     1\n",
       "209   Subject: the next move higher for strong marke...     1     1\n",
       "571   Subject: adv oil and gas investment tgym  how ...     1     1\n",
       "443   Subject: more site sales  do you take credit c...     1     1\n",
       "1204  Subject: better sex ! better relationship !  a...     1     1\n",
       "5543  Subject: weijun decided not to interview  i gu...     0     0\n",
       "4604  Subject: correlation matrix reduction  zhiyang...     0     0\n",
       "1695  Subject: my first draft  dear dr . kaminski  t...     0     0\n",
       "4479  Subject: re : i am zhendong  sure thing !  - -...     0     0\n",
       "4681  Subject: revenue management meeting  please pl...     0     0\n",
       "1464  Subject: re : fwd curves  thx i understand and...     0     0\n",
       "3958  Subject: re : program attached ; march ny ro c...     0     0\n",
       "3623  Subject: re : petrochemical forward curves  vi...     0     0\n",
       "1742  Subject: bi - weekly transmission update repor...     0     1\n",
       "5128  Subject: fw : london work  hi ,  how are you ?...     0     0"
      ]
     },
     "execution_count": 12,
     "metadata": {},
     "output_type": "execute_result"
    }
   ],
   "source": [
    "#Demonstrate out of sample testing\n",
    "#Select 10 true and 10 false and show predictions\n",
    "sampleix = y_test[y_test==True][:10].index\n",
    "sampleix = sampleix.append(y_test[y_test==False][:10].index)\n",
    "\n",
    "#X_test.loc[sampleix]\n",
    "#y_test.loc[sampleix]\n",
    "X_sample_test_dtm = vectorizer.transform(X_test.loc[sampleix])\n",
    "\n",
    "#make predictions on these 20\n",
    "y_sample_pred=nb.predict(X_sample_test_dtm)\n",
    "\n",
    "#Display as dataframe\n",
    "df=pd.DataFrame(X_test.loc[sampleix]).assign(spam=y_test.loc[sampleix]).assign(pred=y_sample_pred)\n",
    "df"
   ]
  },
  {
   "cell_type": "markdown",
   "id": "040de54b-4735-4ef0-a967-e4671f41ab6a",
   "metadata": {},
   "source": [
    "### Demonstrate generalization of model"
   ]
  },
  {
   "cell_type": "code",
   "execution_count": 13,
   "id": "c030e660-ccf0-4271-9b61-7a99d6be8dde",
   "metadata": {},
   "outputs": [
    {
     "data": {
      "text/plain": [
       "array([0, 1, 1, 1, 1, 0])"
      ]
     },
     "execution_count": 13,
     "metadata": {},
     "output_type": "execute_result"
    }
   ],
   "source": [
    "t=['Dear Mr. Kenobi, Subject: Help, you''re my only hope!  Best Regards, Princess Laia',\n",
    "   'buy viagra from our online pharmacy.',\n",
    "   'Dear customer, Try our luxurious body lotions today, risk free!',\n",
    "   'You may regret missing this promo!',\n",
    "   'Subject: Mr. Levenstein, Your statement is ready. View your first statement now.  Sign in at onlinebank.com.  Thank you for being a valued customer.',\n",
    "   'Hey there, I just wanted to touch base about the upcoming meeting. Give me a call at 123-456-7890',\n",
    "  ]\n",
    "t_dtm=vectorizer.transform(t)\n",
    "nb.predict(t_dtm)"
   ]
  },
  {
   "cell_type": "code",
   "execution_count": 14,
   "id": "1a48d273-0b6e-485b-abb2-31e7059bd68e",
   "metadata": {},
   "outputs": [
    {
     "data": {
      "image/png": "[encoded data removed]",
      "text/plain": [
       "<Figure size 640x480 with 1 Axes>"
      ]
     },
     "metadata": {},
     "output_type": "display_data"
    }
   ],
   "source": [
    "# Compute ROC curve and AUC\n",
    "fpr, tpr, thresholds = roc_curve(y_test, y_pred)\n",
    "roc_auc = auc(fpr, tpr)\n",
    "\n",
    "# Plot ROC curve\n",
    "plt.figure()\n",
    "plt.plot(fpr, tpr, color='darkorange', lw=2, label=f'ROC curve (AUC = {roc_auc:.2f})')\n",
    "plt.plot([0, 1], [0, 1], color='navy', lw=2, linestyle='--')\n",
    "plt.xlim([-0.01, 1.01])\n",
    "plt.ylim([-0.01, 1.01])\n",
    "plt.xlabel('False Positive Rate')\n",
    "plt.ylabel('True Positive Rate')\n",
    "plt.title('Receiver Operating Characteristic')\n",
    "plt.legend(loc='lower right')\n",
    "plt.grid()\n",
    "plt.show()"
   ]
  },
  {
   "cell_type": "code",
   "execution_count": 27,
   "id": "e52c6dbf-5b11-4c53-93f1-bcd0771cd347",
   "metadata": {},
   "outputs": [
    {
     "name": "stdout",
     "output_type": "stream",
     "text": [
      "Prediction Bias:\n",
      "Mean ground truth label: 0.2388268156424581\n",
      "Mean model prediction:   0.24231843575418993\n",
      "Prediction bias:         1.46%\n"
     ]
    }
   ],
   "source": [
    "#Evaluate Prediction Bias\n",
    "#Prediction bias is the difference between the average prediction of the model and the average ground truth label in the data.\n",
    "\n",
    "#\n",
    "pb_label = y_train.mean()\n",
    "pb_model = y_pred.mean()\n",
    "prediction_bias_pct = (pb_model/pb_label)-1\n",
    "print(\"Prediction Bias:\")\n",
    "print(f\"Mean ground truth label: {pb_label}\")\n",
    "print(f\"Mean model prediction:   {pb_model}\")\n",
    "print(f\"Prediction bias:         {prediction_bias_pct:.2%}\")\n"
   ]
  }
 ],
 "metadata": {
  "kernelspec": {
   "display_name": "Python [conda env:base] *",
   "language": "python",
   "name": "conda-base-py"
  },
  "language_info": {
   "codemirror_mode": {
    "name": "ipython",
    "version": 3
   },
   "file_extension": ".py",
   "mimetype": "text/x-python",
   "name": "python",
   "nbconvert_exporter": "python",
   "pygments_lexer": "ipython3",
   "version": "3.11.11"
  }
 },
 "nbformat": 4,
 "nbformat_minor": 5
}
